{
 "cells": [
  {
   "cell_type": "markdown",
   "metadata": {
    "id": "Bm8iDDKC1LZo"
   },
   "source": [
    "[![Open In Colab](https://colab.research.google.com/assets/colab-badge.svg)](https://colab.research.google.com/github/mfrashad/ClothingGAN/blob/master/ClothingGAN_Demo.ipynb)\n",
    "# Clothing GAN demo\n",
    "Notebook by [@mfrashad](https://mfrashad.com)\n",
    "\n",
    "\n",
    "<br>\n",
    "Make sure runtime type is GPU"
   ]
  },
  {
   "cell_type": "code",
   "execution_count": null,
   "metadata": {},
   "outputs": [],
   "source": []
  },
  {
   "cell_type": "code",
   "execution_count": 1,
   "metadata": {
    "cellView": "form",
    "colab": {
     "base_uri": "https://localhost:8080/",
     "height": 200
    },
    "id": "Kj8mGkmH0xgA",
    "outputId": "6a793110-884d-4f59-89ec-9c5eced9b98a"
   },
   "outputs": [
    {
     "data": {
      "application/javascript": [
       "google.colab.output.setIframeHeight(0, true, {maxHeight: 200})"
      ],
      "text/plain": [
       "<IPython.core.display.Javascript object>"
      ]
     },
     "metadata": {},
     "output_type": "display_data"
    },
    {
     "name": "stdout",
     "output_type": "stream",
     "text": [
      "Requirement already satisfied: ninja in c:\\users\\saniya\\anaconda3\\lib\\site-packages (1.10.2.3)\n",
      "Requirement already satisfied: gradio in c:\\users\\saniya\\anaconda3\\lib\\site-packages (2.9.4)\n",
      "Requirement already satisfied: fbpca in c:\\users\\saniya\\anaconda3\\lib\\site-packages (1.0)\n",
      "Requirement already satisfied: boto3 in c:\\users\\saniya\\anaconda3\\lib\\site-packages (1.22.7)\n",
      "Requirement already satisfied: requests==2.23.0 in c:\\users\\saniya\\anaconda3\\lib\\site-packages (2.23.0)\n",
      "Requirement already satisfied: urllib3==1.25.11 in c:\\users\\saniya\\anaconda3\\lib\\site-packages (1.25.11)\n",
      "Requirement already satisfied: chardet<4,>=3.0.2 in c:\\users\\saniya\\anaconda3\\lib\\site-packages (from requests==2.23.0) (3.0.4)\n",
      "Requirement already satisfied: idna<3,>=2.5 in c:\\users\\saniya\\anaconda3\\lib\\site-packages (from requests==2.23.0) (2.10)\n",
      "Requirement already satisfied: certifi>=2017.4.17 in c:\\users\\saniya\\anaconda3\\lib\\site-packages (from requests==2.23.0) (2021.10.8)\n",
      "Requirement already satisfied: pycryptodome in c:\\users\\saniya\\anaconda3\\lib\\site-packages (from gradio) (3.14.1)\n",
      "Requirement already satisfied: numpy in c:\\users\\saniya\\anaconda3\\lib\\site-packages (from gradio) (1.20.3)\n",
      "Requirement already satisfied: pillow in c:\\users\\saniya\\anaconda3\\lib\\site-packages (from gradio) (8.4.0)\n",
      "Requirement already satisfied: orjson in c:\\users\\saniya\\anaconda3\\lib\\site-packages (from gradio) (3.6.8)\n",
      "Requirement already satisfied: aiohttp in c:\\users\\saniya\\anaconda3\\lib\\site-packages (from gradio) (3.8.1)\n",
      "Requirement already satisfied: Jinja2 in c:\\users\\saniya\\anaconda3\\lib\\site-packages (from gradio) (2.11.3)\n",
      "Requirement already satisfied: markdown-it-py[linkify,plugins] in c:\\users\\saniya\\anaconda3\\lib\\site-packages (from gradio) (2.1.0)\n",
      "Requirement already satisfied: pandas in c:\\users\\saniya\\anaconda3\\lib\\site-packages (from gradio) (1.3.4)\n",
      "Requirement already satisfied: matplotlib in c:\\users\\saniya\\anaconda3\\lib\\site-packages (from gradio) (3.4.3)\n",
      "Requirement already satisfied: analytics-python in c:\\users\\saniya\\anaconda3\\lib\\site-packages (from gradio) (1.4.0)\n",
      "Requirement already satisfied: python-multipart in c:\\users\\saniya\\anaconda3\\lib\\site-packages (from gradio) (0.0.5)\n",
      "Requirement already satisfied: uvicorn in c:\\users\\saniya\\anaconda3\\lib\\site-packages (from gradio) (0.17.6)\n",
      "Requirement already satisfied: fastapi in c:\\users\\saniya\\anaconda3\\lib\\site-packages (from gradio) (0.75.2)\n",
      "Requirement already satisfied: pydub in c:\\users\\saniya\\anaconda3\\lib\\site-packages (from gradio) (0.25.1)\n",
      "Requirement already satisfied: paramiko in c:\\users\\saniya\\anaconda3\\lib\\site-packages (from gradio) (2.7.2)\n",
      "Requirement already satisfied: ffmpy in c:\\users\\saniya\\anaconda3\\lib\\site-packages (from gradio) (0.3.0)\n",
      "Requirement already satisfied: botocore<1.26.0,>=1.25.7 in c:\\users\\saniya\\anaconda3\\lib\\site-packages (from boto3) (1.25.7)\n",
      "Requirement already satisfied: jmespath<2.0.0,>=0.7.1 in c:\\users\\saniya\\anaconda3\\lib\\site-packages (from boto3) (1.0.0)\n",
      "Requirement already satisfied: s3transfer<0.6.0,>=0.5.0 in c:\\users\\saniya\\anaconda3\\lib\\site-packages (from boto3) (0.5.2)\n",
      "Requirement already satisfied: python-dateutil<3.0.0,>=2.1 in c:\\users\\saniya\\anaconda3\\lib\\site-packages (from botocore<1.26.0,>=1.25.7->boto3) (2.8.2)\n",
      "Requirement already satisfied: six>=1.5 in c:\\users\\saniya\\anaconda3\\lib\\site-packages (from python-dateutil<3.0.0,>=2.1->botocore<1.26.0,>=1.25.7->boto3) (1.16.0)\n",
      "Requirement already satisfied: frozenlist>=1.1.1 in c:\\users\\saniya\\anaconda3\\lib\\site-packages (from aiohttp->gradio) (1.3.0)\n",
      "Requirement already satisfied: yarl<2.0,>=1.0 in c:\\users\\saniya\\anaconda3\\lib\\site-packages (from aiohttp->gradio) (1.7.2)\n",
      "Requirement already satisfied: async-timeout<5.0,>=4.0.0a3 in c:\\users\\saniya\\anaconda3\\lib\\site-packages (from aiohttp->gradio) (4.0.2)\n",
      "Requirement already satisfied: multidict<7.0,>=4.5 in c:\\users\\saniya\\anaconda3\\lib\\site-packages (from aiohttp->gradio) (6.0.2)\n",
      "Requirement already satisfied: aiosignal>=1.1.2 in c:\\users\\saniya\\anaconda3\\lib\\site-packages (from aiohttp->gradio) (1.2.0)\n",
      "Requirement already satisfied: attrs>=17.3.0 in c:\\users\\saniya\\anaconda3\\lib\\site-packages (from aiohttp->gradio) (21.2.0)\n",
      "Requirement already satisfied: charset-normalizer<3.0,>=2.0 in c:\\users\\saniya\\anaconda3\\lib\\site-packages (from aiohttp->gradio) (2.0.4)\n",
      "Requirement already satisfied: backoff==1.10.0 in c:\\users\\saniya\\anaconda3\\lib\\site-packages (from analytics-python->gradio) (1.10.0)\n",
      "Requirement already satisfied: monotonic>=1.5 in c:\\users\\saniya\\anaconda3\\lib\\site-packages (from analytics-python->gradio) (1.6)\n",
      "Requirement already satisfied: pydantic!=1.7,!=1.7.1,!=1.7.2,!=1.7.3,!=1.8,!=1.8.1,<2.0.0,>=1.6.2 in c:\\users\\saniya\\anaconda3\\lib\\site-packages (from fastapi->gradio) (1.9.0)\n",
      "Requirement already satisfied: starlette==0.17.1 in c:\\users\\saniya\\anaconda3\\lib\\site-packages (from fastapi->gradio) (0.17.1)\n",
      "Requirement already satisfied: anyio<4,>=3.0.0 in c:\\users\\saniya\\anaconda3\\lib\\site-packages (from starlette==0.17.1->fastapi->gradio) (3.5.0)\n",
      "Requirement already satisfied: sniffio>=1.1 in c:\\users\\saniya\\anaconda3\\lib\\site-packages (from anyio<4,>=3.0.0->starlette==0.17.1->fastapi->gradio) (1.2.0)\n",
      "Requirement already satisfied: typing-extensions>=3.7.4.3 in c:\\users\\saniya\\anaconda3\\lib\\site-packages (from pydantic!=1.7,!=1.7.1,!=1.7.2,!=1.7.3,!=1.8,!=1.8.1,<2.0.0,>=1.6.2->fastapi->gradio) (3.10.0.2)\n",
      "Requirement already satisfied: MarkupSafe>=0.23 in c:\\users\\saniya\\anaconda3\\lib\\site-packages (from Jinja2->gradio) (1.1.1)\n",
      "Requirement already satisfied: mdurl~=0.1 in c:\\users\\saniya\\anaconda3\\lib\\site-packages (from markdown-it-py[linkify,plugins]->gradio) (0.1.1)\n",
      "Requirement already satisfied: linkify-it-py~=1.0 in c:\\users\\saniya\\anaconda3\\lib\\site-packages (from markdown-it-py[linkify,plugins]->gradio) (1.0.3)\n",
      "Requirement already satisfied: mdit-py-plugins in c:\\users\\saniya\\anaconda3\\lib\\site-packages (from markdown-it-py[linkify,plugins]->gradio) (0.3.0)\n",
      "Requirement already satisfied: uc-micro-py in c:\\users\\saniya\\anaconda3\\lib\\site-packages (from linkify-it-py~=1.0->markdown-it-py[linkify,plugins]->gradio) (1.0.1)\n",
      "Requirement already satisfied: cycler>=0.10 in c:\\users\\saniya\\anaconda3\\lib\\site-packages (from matplotlib->gradio) (0.10.0)\n",
      "Requirement already satisfied: kiwisolver>=1.0.1 in c:\\users\\saniya\\anaconda3\\lib\\site-packages (from matplotlib->gradio) (1.3.1)\n",
      "Requirement already satisfied: pyparsing>=2.2.1 in c:\\users\\saniya\\anaconda3\\lib\\site-packages (from matplotlib->gradio) (3.0.4)\n",
      "Requirement already satisfied: pytz>=2017.3 in c:\\users\\saniya\\anaconda3\\lib\\site-packages (from pandas->gradio) (2021.3)\n",
      "Requirement already satisfied: cryptography>=2.5 in c:\\users\\saniya\\anaconda3\\lib\\site-packages (from paramiko->gradio) (3.4.8)\n",
      "Requirement already satisfied: bcrypt>=3.1.3 in c:\\users\\saniya\\anaconda3\\lib\\site-packages (from paramiko->gradio) (3.2.0)\n",
      "Requirement already satisfied: pynacl>=1.0.1 in c:\\users\\saniya\\anaconda3\\lib\\site-packages (from paramiko->gradio) (1.4.0)\n",
      "Requirement already satisfied: cffi>=1.1 in c:\\users\\saniya\\anaconda3\\lib\\site-packages (from bcrypt>=3.1.3->paramiko->gradio) (1.14.6)\n",
      "Requirement already satisfied: pycparser in c:\\users\\saniya\\anaconda3\\lib\\site-packages (from cffi>=1.1->bcrypt>=3.1.3->paramiko->gradio) (2.20)\n",
      "Requirement already satisfied: asgiref>=3.4.0 in c:\\users\\saniya\\anaconda3\\lib\\site-packages (from uvicorn->gradio) (3.5.1)\n",
      "Requirement already satisfied: click>=7.0 in c:\\users\\saniya\\anaconda3\\lib\\site-packages (from uvicorn->gradio) (8.0.3)\n",
      "Requirement already satisfied: h11>=0.8 in c:\\users\\saniya\\anaconda3\\lib\\site-packages (from uvicorn->gradio) (0.13.0)\n",
      "Requirement already satisfied: colorama in c:\\users\\saniya\\anaconda3\\lib\\site-packages (from click>=7.0->uvicorn->gradio) (0.4.4)\n"
     ]
    }
   ],
   "source": [
    "#@title Install dependencies (restart runtime after installing)\n",
    "from IPython.display import Javascript\n",
    "display(Javascript('''google.colab.output.setIframeHeight(0, true, {maxHeight: 200})'''))\n",
    "!pip install ninja gradio fbpca boto3 requests==2.23.0 urllib3==1.25.11"
   ]
  },
  {
   "cell_type": "code",
   "execution_count": 1,
   "metadata": {
    "colab": {
     "base_uri": "https://localhost:8080/"
    },
    "id": "qwf-gggHtA_t",
    "outputId": "68f7afee-6889-4f9c-97d0-de9ba931c206"
   },
   "outputs": [
    {
     "name": "stdout",
     "output_type": "stream",
     "text": [
      "C:\\Users\\Saniya\\Documents\\GitHub\\ClothingGAN\\ClothingGAN\n"
     ]
    },
    {
     "name": "stderr",
     "output_type": "stream",
     "text": [
      "Cloning into 'ClothingGAN'...\n",
      "hint: core.useBuiltinFSMonitor will be deprecated soon; use core.fsmonitor instead\n",
      "hint: Disable this message with \"git config advice.useCoreFSMonitorConfig false\"\n"
     ]
    }
   ],
   "source": [
    "!git clone https://github.com/mfrashad/ClothingGAN.git\n",
    "%cd ClothingGAN/"
   ]
  },
  {
   "cell_type": "code",
   "execution_count": 2,
   "metadata": {
    "cellView": "form",
    "colab": {
     "base_uri": "https://localhost:8080/",
     "height": 153
    },
    "id": "2BYsIETVtGnF",
    "outputId": "e3b5c2ac-9c18-4917-de0f-1f2c126aa696"
   },
   "outputs": [
    {
     "data": {
      "application/javascript": [
       "google.colab.output.setIframeHeight(0, true, {maxHeight: 200})"
      ],
      "text/plain": [
       "<IPython.core.display.Javascript object>"
      ]
     },
     "metadata": {},
     "output_type": "display_data"
    },
    {
     "name": "stdout",
     "output_type": "stream",
     "text": [
      "Submodule path 'models/stylegan/stylegan_tf': checked out '66813a32aac5045fcde72751522a0c0ba963f6f2'\n",
      "Submodule path 'models/stylegan2/stylegan2-pytorch': checked out '91ea2a7a4320701535466cce942c9e099d65670e'\n"
     ]
    },
    {
     "name": "stderr",
     "output_type": "stream",
     "text": [
      "hint: core.useBuiltinFSMonitor will be deprecated soon; use core.fsmonitor instead\n",
      "hint: Disable this message with \"git config advice.useCoreFSMonitorConfig false\"\n",
      "Submodule 'stylegan/stylegan_tf' (https://github.com/NVlabs/stylegan.git) registered for path 'models/stylegan/stylegan_tf'\n",
      "Submodule 'stylegan2/stylegan2-pytorch' (https://github.com/harskish/stylegan2-pytorch.git) registered for path 'models/stylegan2/stylegan2-pytorch'\n",
      "Cloning into 'C:/Users/Saniya/Documents/GitHub/ClothingGAN/ClothingGAN/models/stylegan/stylegan_tf'...\n",
      "Cloning into 'C:/Users/Saniya/Documents/GitHub/ClothingGAN/ClothingGAN/models/stylegan2/stylegan2-pytorch'...\n",
      "[nltk_data] Downloading package wordnet to\n",
      "[nltk_data]     C:\\Users\\Saniya\\AppData\\Roaming\\nltk_data...\n",
      "[nltk_data]   Package wordnet is already up-to-date!\n"
     ]
    }
   ],
   "source": [
    "#@title Install other dependencies\n",
    "from IPython.display import Javascript\n",
    "display(Javascript('''google.colab.output.setIframeHeight(0, true, {maxHeight: 200})'''))\n",
    "!git submodule update --init --recursive\n",
    "!python -c \"import nltk; nltk.download('wordnet')\""
   ]
  },
  {
   "cell_type": "code",
   "execution_count": null,
   "metadata": {
    "cellView": "form",
    "colab": {
     "base_uri": "https://localhost:8080/"
    },
    "id": "dJg91yvSwKi3",
    "outputId": "15c2285c-e8da-45b9-bdc2-9bab3709b270"
   },
   "outputs": [
    {
     "name": "stderr",
     "output_type": "stream",
     "text": [
      "C:\\Users\\Saniya\\Documents\\GitHub\\ClothingGAN\\netdissect\\dissection.py:915: SyntaxWarning: \"is\" with a literal. Did you mean \"==\"?\n",
      "  if label_fracs is None or label_fracs is 0:\n",
      "C:\\Users\\Saniya\\Documents\\GitHub\\ClothingGAN\\netdissect\\segmenter.py:254: SyntaxWarning: \"is not\" with a literal. Did you mean \"!=\"?\n",
      "  assert result is not 0, 'unrecognized class %d' % classnum\n"
     ]
    }
   ],
   "source": [
    "#@title Load Model\n",
    "selected_model = 'lookbook'\n",
    "\n",
    "# Load model\n",
    "from IPython.utils import io\n",
    "import torch\n",
    "import PIL\n",
    "import numpy as np\n",
    "import ipywidgets as widgets\n",
    "from PIL import Image\n",
    "import imageio\n",
    "from models import get_instrumented_model\n",
    "from decomposition import get_or_compute\n",
    "from config import Config\n",
    "from skimage import img_as_ubyte\n",
    "\n",
    "# Speed up computation\n",
    "torch.autograd.set_grad_enabled(False)\n",
    "torch.backends.cudnn.benchmark = True\n",
    "\n",
    "# Specify model to use\n",
    "config = Config(\n",
    "  model='StyleGAN2',\n",
    "  layer='style',\n",
    "  output_class=selected_model,\n",
    "  components=80,\n",
    "  use_w=True,\n",
    "  batch_size=5_000, # style layer quite small\n",
    ")\n",
    "\n",
    "inst = get_instrumented_model(config.model, config.output_class,\n",
    "                              config.layer, torch.device('cuda'), use_w=config.use_w)\n",
    "\n",
    "path_to_components = get_or_compute(config, inst)\n",
    "\n",
    "model = inst.model\n",
    "\n",
    "comps = np.load(path_to_components)\n",
    "lst = comps.files\n",
    "latent_dirs = []\n",
    "latent_stdevs = []\n",
    "\n",
    "load_activations = False\n",
    "\n",
    "for item in lst:\n",
    "    if load_activations:\n",
    "      if item == 'act_comp':\n",
    "        for i in range(comps[item].shape[0]):\n",
    "          latent_dirs.append(comps[item][i])\n",
    "      if item == 'act_stdev':\n",
    "        for i in range(comps[item].shape[0]):\n",
    "          latent_stdevs.append(comps[item][i])\n",
    "    else:\n",
    "      if item == 'lat_comp':\n",
    "        for i in range(comps[item].shape[0]):\n",
    "          latent_dirs.append(comps[item][i])\n",
    "      if item == 'lat_stdev':\n",
    "        for i in range(comps[item].shape[0]):\n",
    "          latent_stdevs.append(comps[item][i])"
   ]
  },
  {
   "cell_type": "code",
   "execution_count": 4,
   "metadata": {
    "cellView": "form",
    "id": "uCR_3Ghos2kK"
   },
   "outputs": [],
   "source": [
    "#@title Define functions\n",
    "from ipywidgets import fixed\n",
    "\n",
    "# Taken from https://github.com/alexanderkuk/log-progress\n",
    "def log_progress(sequence, every=1, size=None, name='Items'):\n",
    "    from ipywidgets import IntProgress, HTML, VBox\n",
    "    from IPython.display import display\n",
    "\n",
    "    is_iterator = False\n",
    "    if size is None:\n",
    "        try:\n",
    "            size = len(sequence)\n",
    "        except TypeError:\n",
    "            is_iterator = True\n",
    "    if size is not None:\n",
    "        if every is None:\n",
    "            if size <= 200:\n",
    "                every = 1\n",
    "            else:\n",
    "                every = int(size / 200)     # every 0.5%\n",
    "    else:\n",
    "        assert every is not None, 'sequence is iterator, set every'\n",
    "\n",
    "    if is_iterator:\n",
    "        progress = IntProgress(min=0, max=1, value=1)\n",
    "        progress.bar_style = 'info'\n",
    "    else:\n",
    "        progress = IntProgress(min=0, max=size, value=0)\n",
    "    label = HTML()\n",
    "    box = VBox(children=[label, progress])\n",
    "    display(box)\n",
    "\n",
    "    index = 0\n",
    "    try:\n",
    "        for index, record in enumerate(sequence, 1):\n",
    "            if index == 1 or index % every == 0:\n",
    "                if is_iterator:\n",
    "                    label.value = '{name}: {index} / ?'.format(\n",
    "                        name=name,\n",
    "                        index=index\n",
    "                    )\n",
    "                else:\n",
    "                    progress.value = index\n",
    "                    label.value = u'{name}: {index} / {size}'.format(\n",
    "                        name=name,\n",
    "                        index=index,\n",
    "                        size=size\n",
    "                    )\n",
    "            yield record\n",
    "    except:\n",
    "        progress.bar_style = 'danger'\n",
    "        raise\n",
    "    else:\n",
    "        progress.bar_style = 'success'\n",
    "        progress.value = index\n",
    "        label.value = \"{name}: {index}\".format(\n",
    "            name=name,\n",
    "            index=str(index or '?')\n",
    "        )\n",
    "\n",
    "def name_direction(sender):\n",
    "  if not text.value:\n",
    "    print('Please name the direction before saving')\n",
    "    return\n",
    "    \n",
    "  if num in named_directions.values():\n",
    "    target_key = list(named_directions.keys())[list(named_directions.values()).index(num)]\n",
    "    print(f'Direction already named: {target_key}')\n",
    "    print(f'Overwriting... ')\n",
    "    del(named_directions[target_key])\n",
    "  named_directions[text.value] = [num, start_layer.value, end_layer.value]\n",
    "  save_direction(random_dir, text.value)\n",
    "  for item in named_directions:\n",
    "    print(item, named_directions[item])\n",
    "\n",
    "def save_direction(direction, filename):\n",
    "  filename += \".npy\"\n",
    "  np.save(filename, direction, allow_pickle=True, fix_imports=True)\n",
    "  print(f'Latent direction saved as {filename}')\n",
    "\n",
    "def mix_w(w1, w2, content, style):\n",
    "    for i in range(0,5):\n",
    "        w2[i] = w1[i] * (1 - content) + w2[i] * content\n",
    "\n",
    "    for i in range(5, 16):\n",
    "        w2[i] = w1[i] * (1 - style) + w2[i] * style\n",
    "    \n",
    "    return w2\n",
    "\n",
    "def display_sample_pytorch(seed, truncation, directions, distances, scale, start, end, w=None, disp=True, save=None, noise_spec=None):\n",
    "    # blockPrint()\n",
    "    model.truncation = truncation\n",
    "    if w is None:\n",
    "        w = model.sample_latent(1, seed=seed).detach().cpu().numpy()\n",
    "        w = [w]*model.get_max_latents() # one per layer\n",
    "    else:\n",
    "        w = [np.expand_dims(x, 0) for x in w]\n",
    "    \n",
    "    for l in range(start, end):\n",
    "      for i in range(len(directions)):\n",
    "        w[l] = w[l] + directions[i] * distances[i] * scale\n",
    "    \n",
    "    torch.cuda.empty_cache()\n",
    "    #save image and display\n",
    "    out = model.sample_np(w)\n",
    "    final_im = Image.fromarray((out * 255).astype(np.uint8)).resize((500,500),Image.LANCZOS)\n",
    "    \n",
    "    \n",
    "    if save is not None:\n",
    "      if disp == False:\n",
    "        print(save)\n",
    "      final_im.save(f'out/{seed}_{save:05}.png')\n",
    "    if disp:\n",
    "      display(final_im)\n",
    "    \n",
    "    return final_im\n",
    "\n",
    "def generate_mov(seed, truncation, direction_vec, scale, layers, n_frames, out_name = 'out', noise_spec = None, loop=True):\n",
    "  \"\"\"Generates a mov moving back and forth along the chosen direction vector\"\"\"\n",
    "  # Example of reading a generated set of images, and storing as MP4.\n",
    "  %mkdir out\n",
    "  movieName = f'out/{out_name}.mp4'\n",
    "  offset = -10\n",
    "  step = 20 / n_frames\n",
    "  imgs = []\n",
    "  for i in log_progress(range(n_frames), name = \"Generating frames\"):\n",
    "    print(f'\\r{i} / {n_frames}', end='')\n",
    "    w = model.sample_latent(1, seed=seed).cpu().numpy()\n",
    "\n",
    "    model.truncation = truncation\n",
    "    w = [w]*model.get_max_latents() # one per layer\n",
    "    for l in layers:\n",
    "      if l <= model.get_max_latents():\n",
    "          w[l] = w[l] + direction_vec * offset * scale\n",
    "\n",
    "    #save image and display\n",
    "    out = model.sample_np(w)\n",
    "    final_im = Image.fromarray((out * 255).astype(np.uint8))\n",
    "    imgs.append(out)\n",
    "    #increase offset\n",
    "    offset += step\n",
    "  if loop:\n",
    "    imgs += imgs[::-1]\n",
    "  with imageio.get_writer(movieName, mode='I') as writer:\n",
    "    for image in log_progress(list(imgs), name = \"Creating animation\"):\n",
    "        writer.append_data(img_as_ubyte(image))"
   ]
  },
  {
   "cell_type": "code",
   "execution_count": 2,
   "metadata": {
    "cellView": "form",
    "colab": {
     "base_uri": "https://localhost:8080/",
     "height": 640
    },
    "id": "jneXxZnNwHo5",
    "outputId": "c8e2b76e-3a00-47f5-ba2d-51606f09ee93"
   },
   "outputs": [
    {
     "name": "stdout",
     "output_type": "stream",
     "text": [
      "Running on local URL:  http://127.0.0.1:7860/\n",
      "\n",
      "To create a public link, set `share=True` in `launch()`.\n"
     ]
    },
    {
     "data": {
      "text/html": [
       "\n",
       "        <iframe\n",
       "            width=\"900\"\n",
       "            height=\"500\"\n",
       "            src=\"http://127.0.0.1:7860/\"\n",
       "            frameborder=\"0\"\n",
       "            allowfullscreen\n",
       "            \n",
       "        ></iframe>\n",
       "        "
      ],
      "text/plain": [
       "<IPython.lib.display.IFrame at 0x1adfca33f10>"
      ]
     },
     "metadata": {},
     "output_type": "display_data"
    },
    {
     "data": {
      "text/plain": [
       "(<fastapi.applications.FastAPI at 0x1adf9d03eb0>,\n",
       " 'http://127.0.0.1:7860/',\n",
       " None)"
      ]
     },
     "execution_count": 2,
     "metadata": {},
     "output_type": "execute_result"
    }
   ],
   "source": [
    "#@title Demo UI\n",
    "import gradio as gr\n",
    "import numpy as np\n",
    "\n",
    "def generate_image(seed1, seed2, content, style, truncation, c0, c1, c2, c3, c4, c5, c6, start_layer, end_layer):\n",
    "    seed1 = int(seed1)\n",
    "    seed2 = int(seed2)\n",
    "\n",
    "    scale = 1\n",
    "    params = {'c0': c0,\n",
    "          'c1': c1,\n",
    "          'c2': c2,\n",
    "          'c3': c3,\n",
    "          'c4': c4,\n",
    "          'c5': c5,\n",
    "          'c6': c6}\n",
    "\n",
    "    param_indexes = {'c0': 0,\n",
    "              'c1': 1,\n",
    "              'c2': 2,\n",
    "              'c3': 3,\n",
    "              'c4': 4,\n",
    "              'c5': 5,\n",
    "              'c6': 6}\n",
    "\n",
    "    directions = []\n",
    "    distances = []\n",
    "    for k, v in params.items():\n",
    "        directions.append(latent_dirs[param_indexes[k]])\n",
    "        distances.append(v)\n",
    "\n",
    "    w1 = model.sample_latent(1, seed=seed1).detach().cpu().numpy()\n",
    "    w1 = [w1]*model.get_max_latents() # one per layer\n",
    "    im1 = model.sample_np(w1)\n",
    "\n",
    "    w2 = model.sample_latent(1, seed=seed2).detach().cpu().numpy()\n",
    "    w2 = [w2]*model.get_max_latents() # one per layer\n",
    "    im2 = model.sample_np(w2)\n",
    "    combined_im = np.concatenate([im1, im2], axis=1)\n",
    "    input_im = Image.fromarray((combined_im * 255).astype(np.uint8))\n",
    "    \n",
    "\n",
    "    mixed_w = mix_w(w1, w2, content, style)\n",
    "    return input_im, display_sample_pytorch(seed1, truncation, directions, distances, scale, int(start_layer), int(end_layer), w=mixed_w, disp=False)\n",
    "\n",
    "truncation = gr.inputs.Slider(minimum=0, maximum=1, default=0.5, label=\"Truncation\")\n",
    "start_layer = gr.inputs.Number(default=0, label=\"Start Layer\")\n",
    "end_layer = gr.inputs.Number(default=14, label=\"End Layer\")\n",
    "seed1 = gr.inputs.Number(default=0, label=\"Seed 1\")\n",
    "seed2 = gr.inputs.Number(default=0, label=\"Seed 2\")\n",
    "content = gr.inputs.Slider(label=\"Structure\", minimum=0, maximum=1, default=0.5)\n",
    "style = gr.inputs.Slider(label=\"Style\", minimum=0, maximum=1, default=0.5)\n",
    "\n",
    "slider_max_val = 20\n",
    "slider_min_val = -20\n",
    "slider_step = 1\n",
    "\n",
    "c0 = gr.inputs.Slider(label=\"Sleeve & Size\", minimum=slider_min_val, maximum=slider_max_val, default=0)\n",
    "c1 = gr.inputs.Slider(label=\"Dress - Jacket\", minimum=slider_min_val, maximum=slider_max_val, default=0)\n",
    "c2 = gr.inputs.Slider(label=\"Female Coat\", minimum=slider_min_val, maximum=slider_max_val, default=0)\n",
    "c3 = gr.inputs.Slider(label=\"Coat\", minimum=slider_min_val, maximum=slider_max_val, default=0)\n",
    "c4 = gr.inputs.Slider(label=\"Graphics\", minimum=slider_min_val, maximum=slider_max_val, default=0)\n",
    "c5 = gr.inputs.Slider(label=\"Dark\", minimum=slider_min_val, maximum=slider_max_val, default=0)\n",
    "c6 = gr.inputs.Slider(label=\"Less Cleavage\", minimum=slider_min_val, maximum=slider_max_val, default=0)\n",
    "\n",
    "\n",
    "scale = 1\n",
    "\n",
    "inputs = [seed1, seed2, content, style, truncation, c0, c1, c2, c3, c4, c5, c6, start_layer, end_layer]\n",
    "\n",
    "gr.Interface(generate_image, inputs, [\"image\", \"image\"], live=True, title=\"ClothingGAN\").launch()"
   ]
  }
 ],
 "metadata": {
  "accelerator": "GPU",
  "colab": {
   "name": "ClothingGAN-Demo.ipynb",
   "provenance": []
  },
  "kernelspec": {
   "display_name": "Python 3 (ipykernel)",
   "language": "python",
   "name": "python3"
  },
  "language_info": {
   "codemirror_mode": {
    "name": "ipython",
    "version": 3
   },
   "file_extension": ".py",
   "mimetype": "text/x-python",
   "name": "python",
   "nbconvert_exporter": "python",
   "pygments_lexer": "ipython3",
   "version": "3.9.7"
  }
 },
 "nbformat": 4,
 "nbformat_minor": 1
}
